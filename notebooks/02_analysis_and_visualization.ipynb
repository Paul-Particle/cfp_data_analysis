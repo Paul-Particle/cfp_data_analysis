version https://git-lfs.github.com/spec/v1
oid sha256:7c12ce69c2c5a8e8900f18643f663c19aa7180491309e095cd577c256c3ee476
size 7230187
