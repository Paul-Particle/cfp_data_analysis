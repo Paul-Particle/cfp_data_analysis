version https://git-lfs.github.com/spec/v1
oid sha256:d4cf27d85604ecfdb57a220762f7ee16944122a7d29f6e1e41ae97a3429a22a6
size 21725
