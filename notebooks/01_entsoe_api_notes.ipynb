version https://git-lfs.github.com/spec/v1
oid sha256:34a3771a8db2924b133c2cf26ff82f4327a233e3adc02901340c95dda81cf97a
size 21600
