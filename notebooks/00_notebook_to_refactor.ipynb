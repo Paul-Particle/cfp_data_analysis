version https://git-lfs.github.com/spec/v1
oid sha256:a0f9e680991979a8186d339a3c18f6709d15245996cd4e6339aa67a99556f3e2
size 83924994
